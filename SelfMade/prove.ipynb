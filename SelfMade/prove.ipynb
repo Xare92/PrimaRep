{
 "cells": [
  {
   "cell_type": "code",
   "execution_count": 7,
   "metadata": {},
   "outputs": [],
   "source": [
    "def print_tre_volte():\n",
    "    print('salve')\n",
    "    print('a')\n",
    "    print('tutti')\n"
   ]
  },
  {
   "cell_type": "code",
   "execution_count": 8,
   "metadata": {},
   "outputs": [
    {
     "name": "stdout",
     "output_type": "stream",
     "text": [
      "salve\n",
      "a\n",
      "tutti\n"
     ]
    }
   ],
   "source": [
    "print_tre_volte()"
   ]
  },
  {
   "cell_type": "code",
   "execution_count": 16,
   "metadata": {},
   "outputs": [],
   "source": [
    "def somma_numeri(a,b,c):\n",
    "    print('questa funzione somma due numeri')\n",
    "    risultato = a+b+c\n",
    "    type(a)\n",
    "    type(b)\n",
    "    print(type(c))\n",
    "    print('il risultato è '+str(risultato)) "
   ]
  },
  {
   "cell_type": "code",
   "execution_count": 31,
   "metadata": {},
   "outputs": [],
   "source": [
    "def somma_numeri_raddoppia(a,b,c):\n",
    "    '''se il numero è pari lo raddoppia, se è dispari lo rende pari aggiungendo 1 al risultato'''\n",
    "    print('questa funzione somma dei numeri')\n",
    "    risultato = a+b+c\n",
    "    if risultato%2==0:\n",
    "        risultato=risultato+risultato\n",
    "    else:\n",
    "        risultato=risultato+1 \n",
    "    print('il risultato è '+str(risultato))\n",
    "    "
   ]
  },
  {
   "cell_type": "code",
   "execution_count": 32,
   "metadata": {},
   "outputs": [
    {
     "name": "stdout",
     "output_type": "stream",
     "text": [
      "questa funzione somma dei numeri\n",
      "il risultato è 16\n"
     ]
    }
   ],
   "source": [
    "somma_numeri_raddoppia(5,5,5)"
   ]
  },
  {
   "cell_type": "code",
   "execution_count": 18,
   "metadata": {},
   "outputs": [
    {
     "name": "stdout",
     "output_type": "stream",
     "text": [
      "questa funzione somma due numeri\n",
      "<class 'int'>\n",
      "il risultato è 68\n"
     ]
    }
   ],
   "source": [
    "somma_numeri(21,23,24)"
   ]
  },
  {
   "cell_type": "code",
   "execution_count": 19,
   "metadata": {},
   "outputs": [
    {
     "name": "stdout",
     "output_type": "stream",
     "text": [
      "questa funzione somma due numeri\n",
      "<class 'int'>\n",
      "il risultato è 18\n"
     ]
    }
   ],
   "source": [
    "x = input('inserisci un numero qualsiasi')\n",
    "y = input('inserisci un numero qualsiasi')\n",
    "int(x)\n",
    "ciao=int(y)\n",
    "somma_numeri(int(x),ciao,int(input('inserisci un numero qualsiasi')))"
   ]
  },
  {
   "cell_type": "code",
   "execution_count": 21,
   "metadata": {},
   "outputs": [
    {
     "name": "stdout",
     "output_type": "stream",
     "text": [
      "questa funzione somma due numeri\n",
      "<class 'int'>\n",
      "il risultato è 12\n"
     ]
    }
   ],
   "source": [
    "esercizio = somma_numeri(3,4,5)\n",
    "esercizio"
   ]
  },
  {
   "cell_type": "code",
   "execution_count": 41,
   "metadata": {},
   "outputs": [],
   "source": [
    "def formula_rettangolo(a:float,b:float):\n",
    "    '''questa funzione calcola l'area e il perimetro del rettangolo/quadrato'''\n",
    "    area = a*b \n",
    "    perimetro = 2*(a+b)\n",
    "    return area,perimetro\n",
    "    \n"
   ]
  },
  {
   "cell_type": "code",
   "execution_count": 42,
   "metadata": {},
   "outputs": [
    {
     "name": "stdout",
     "output_type": "stream",
     "text": [
      "30 22\n"
     ]
    }
   ],
   "source": [
    "ar,per=formula_rettangolo(5,6)\n",
    "print(ar,per)"
   ]
  },
  {
   "cell_type": "code",
   "execution_count": null,
   "metadata": {},
   "outputs": [],
   "source": [
    "def formule_triangolo(base,lato1,lato2):\n",
    "    '''questa funzione calcola l'area e il perimetro del triangolo'''\n",
    "    perimetrotr = base+lato1+lato2\n",
    "    areatr = (perimetrotr%2)*((perimetrotr%2)-base)*((perimetrotr%2)-lato1)*((perimetrotr%2)-lato2)"
   ]
  }
 ],
 "metadata": {
  "kernelspec": {
   "display_name": "Python 3",
   "language": "python",
   "name": "python3"
  },
  "language_info": {
   "codemirror_mode": {
    "name": "ipython",
    "version": 3
   },
   "file_extension": ".py",
   "mimetype": "text/x-python",
   "name": "python",
   "nbconvert_exporter": "python",
   "pygments_lexer": "ipython3",
   "version": "3.10.10"
  },
  "orig_nbformat": 4
 },
 "nbformat": 4,
 "nbformat_minor": 2
}
