{
 "cells": [
  {
   "cell_type": "code",
   "execution_count": 3,
   "metadata": {},
   "outputs": [
    {
     "name": "stdout",
     "output_type": "stream",
     "text": [
      "(30, 22)\n"
     ]
    }
   ],
   "source": [
    "from modulo.formule import formula_rettangolo as frtg\n",
    "from modulo.formule import somma_numeri as sn\n",
    "\n",
    "area_per = frtg(5,6)\n",
    "print(area_per)"
   ]
  },
  {
   "cell_type": "code",
   "execution_count": 4,
   "metadata": {},
   "outputs": [
    {
     "name": "stdout",
     "output_type": "stream",
     "text": [
      "<__main__.Persona object at 0x0000021F792E3640>\n",
      "Antonio\n"
     ]
    }
   ],
   "source": [
    "class Persona:\n",
    "    def __init__(self,a,b) -> None:\n",
    "        self.nome = a\n",
    "        self.eta = b\n",
    "\n",
    "antonio=Persona('Antonio',30)\n",
    "print(antonio)\n",
    "print(antonio.nome)"
   ]
  },
  {
   "cell_type": "code",
   "execution_count": null,
   "metadata": {},
   "outputs": [],
   "source": [
    "class Geometria:\n",
    "    def __init__(self,a,b) -> None:\n",
    "        self.lati = a\n",
    "        self.angoli = b"
   ]
  },
  {
   "cell_type": "code",
   "execution_count": 5,
   "metadata": {},
   "outputs": [],
   "source": [
    "####fgdggfgkfgkfk"
   ]
  },
  {
   "cell_type": "code",
   "execution_count": null,
   "metadata": {},
   "outputs": [],
   "source": []
  }
 ],
 "metadata": {
  "kernelspec": {
   "display_name": "Python 3",
   "language": "python",
   "name": "python3"
  },
  "language_info": {
   "codemirror_mode": {
    "name": "ipython",
    "version": 3
   },
   "file_extension": ".py",
   "mimetype": "text/x-python",
   "name": "python",
   "nbconvert_exporter": "python",
   "pygments_lexer": "ipython3",
   "version": "3.10.10"
  },
  "orig_nbformat": 4
 },
 "nbformat": 4,
 "nbformat_minor": 2
}
